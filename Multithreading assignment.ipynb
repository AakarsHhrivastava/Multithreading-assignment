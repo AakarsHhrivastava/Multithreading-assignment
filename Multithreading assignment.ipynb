{
 "cells": [
  {
   "cell_type": "markdown",
   "id": "37cdab60-d497-4af9-9569-41d654ddc5ee",
   "metadata": {},
   "source": [
    "### q1). what is multithreading in python? why is it used? Name the module used to handle threads in python"
   ]
  },
  {
   "cell_type": "code",
   "execution_count": 1,
   "id": "534a1d81-7e42-4e94-a5ef-dc1426e9a5dc",
   "metadata": {},
   "outputs": [],
   "source": [
    "# In Python, multithreading refers to the concurrent execution of multiple threads within a single process. A thread is a separate sequence of instructions that can run concurrently with other threads, sharing the same memory space. Each thread represents an independent flow of control and can perform tasks simultaneously, leading to potential speed improvements and enhanced responsiveness in certain scenarios."
   ]
  },
  {
   "cell_type": "code",
   "execution_count": 2,
   "id": "76bf33b2-cba7-4c6b-98c0-21b9b9f67bba",
   "metadata": {},
   "outputs": [],
   "source": [
    "#Multithreading is used to handle concurrent and potentially time-consuming tasks efficiently. By leveraging threads, you can perform parallel processing, allowing multiple operations to be executed concurrently and taking advantage of available system resources. This is particularly useful for tasks that involve I/O operations, such as network communication or file handling, where the thread can perform other work while waiting for I/O to complete."
   ]
  },
  {
   "cell_type": "code",
   "execution_count": 3,
   "id": "e7911159-6576-40bb-890c-00b967311682",
   "metadata": {},
   "outputs": [],
   "source": [
    "# In Python, the threading module is commonly used to handle threads"
   ]
  },
  {
   "cell_type": "markdown",
   "id": "6889f1c9-988a-4d44-89e1-7cac477a3e88",
   "metadata": {},
   "source": [
    "### . why threading module used? write the use of the following functions\n",
    "### ( activeCount\n",
    " ### currentThread\n",
    " ### enumerate)"
   ]
  },
  {
   "cell_type": "code",
   "execution_count": 1,
   "id": "cd4dde24-0cb1-438f-aca9-f2e4501cf9b0",
   "metadata": {},
   "outputs": [],
   "source": [
    "# The threading module in Python is used to create and manage threads, which are separate flows of execution within a program. Threads can be utilized to perform multiple tasks concurrently, allowing for efficient utilization of system resources and enabling programs to handle multiple operations simultaneously."
   ]
  },
  {
   "cell_type": "code",
   "execution_count": 2,
   "id": "e61b25d3-7a65-4bf9-b538-4efa14d92bee",
   "metadata": {},
   "outputs": [],
   "source": [
    "#activeCount(): This function is used to retrieve the number of Thread objects currently alive. It returns the count of all threads, including the main thread and any other active threads that have been created using the threading module. It can be useful for monitoring the overall thread count and managing thread-based operations accordingly.\n",
    "# currentThread(): This function returns the Thread object corresponding to the calling thread. It allows you to obtain a reference to the current thread and perform various operations on it. This can be useful when you need to access or manipulate the attributes and behavior of the current thread, such as changing its name, identifying its ID, or setting thread-specific data.\n",
    "#enumerate(): The enumerate() function is used to obtain a list of all currently active Thread objects. It returns a list of Thread objects that are currently alive and running, including the main thread. Each Thread object in the list represents an active thread, and you can iterate over this list to perform operations on individual threads or gather information about the active threads in your program."
   ]
  },
  {
   "cell_type": "markdown",
   "id": "f9993e50-17ff-41fc-b048-50c579850e6c",
   "metadata": {},
   "source": [
    "### 3. Explain the following functions\n",
    " run()\n",
    " start()\n",
    " join()\n",
    " isAlive()"
   ]
  },
  {
   "cell_type": "code",
   "execution_count": 3,
   "id": "12ca0014-5f4d-43ee-9811-e77be98b728f",
   "metadata": {},
   "outputs": [],
   "source": [
    "#run(): The run() method is responsible for the actual execution of the code within a thread. It is called automatically when a thread is started using the start() method. You can override this method in a custom Thread subclass to define the specific behavior you want the thread to perform. By default, the run() method does nothing, so it needs to be implemented in your subclass to carry out the desired actions when the thread is executed."
   ]
  },
  {
   "cell_type": "code",
   "execution_count": 4,
   "id": "eb0db9a4-cc08-4041-aabc-ff784e1ada66",
   "metadata": {},
   "outputs": [],
   "source": [
    "#start(): The start() method is used to start the execution of a thread. When this method is called on a Thread object, it creates a new operating system-level thread and invokes the run() method of that thread. The start() method allows multiple threads to run concurrently, enabling parallel execution of code. It's important to note that the start() method can only be called once on a Thread object. If you attempt to start a thread again after it has finished executing or been terminated, it will raise a RuntimeError."
   ]
  },
  {
   "cell_type": "code",
   "execution_count": 5,
   "id": "73a21b26-3282-41d4-9815-85fc176dc0dd",
   "metadata": {},
   "outputs": [],
   "source": [
    "#join(): The join() method is used to wait for a thread to complete its execution. When this method is called on a Thread object, the calling thread will be blocked until the target thread finishes. This is particularly useful when you need to ensure that a thread has completed its task before proceeding further in the program. The join() method allows for synchronization between threads and helps to coordinate their execution."
   ]
  },
  {
   "cell_type": "code",
   "execution_count": 6,
   "id": "c04e2cf1-0312-47c0-adf7-180ba7abadd1",
   "metadata": {},
   "outputs": [],
   "source": [
    "#isAlive(): The isAlive() method is used to check whether a thread is currently active or running. It returns a boolean value indicating the status of the thread. If the thread is still executing, isAlive() will return True; otherwise, if the thread has finished executing or has not yet been started, it will return False. This method can be helpful to determine the status of a thread and make decisions based on its current state."
   ]
  },
  {
   "cell_type": "markdown",
   "id": "96d394ea-2b36-4eb9-a5fc-ac1f34bdcbda",
   "metadata": {},
   "source": [
    "### 4. write a python program to create two threads. Thread one must print the list of squares and thread two must print the list of cubes"
   ]
  },
  {
   "cell_type": "code",
   "execution_count": 19,
   "id": "489626fd-1c3e-4b3b-8973-2d4b8ee20e34",
   "metadata": {},
   "outputs": [],
   "source": [
    "import threading\n",
    "\n",
    "def print_squares():\n",
    "    for s in range(1,11):\n",
    "        square = s**2\n",
    "        print(f\"Square of {s}: {square}\")\n",
    "        \n",
    "def print_cubes():\n",
    "    for c in range(1,11):\n",
    "        cube = c**3\n",
    "        print(f\"cube of {c}: {cube}\")"
   ]
  },
  {
   "cell_type": "code",
   "execution_count": 20,
   "id": "d215c928-efcc-4d5f-86dd-0d6633fafb85",
   "metadata": {},
   "outputs": [],
   "source": [
    "thread1 = threading.Thread(target=print_squares)\n",
    "\n",
    "thread2 = threading.Thread(target=print_cubes)"
   ]
  },
  {
   "cell_type": "code",
   "execution_count": 21,
   "id": "90e0d876-e895-4d69-8aaa-20183f875e29",
   "metadata": {},
   "outputs": [
    {
     "name": "stdout",
     "output_type": "stream",
     "text": [
      "Square of 1: 1\n",
      "Square of 2: 4\n",
      "Square of 3: 9\n",
      "Square of 4: 16\n",
      "Square of 5: 25\n",
      "Square of 6: 36\n",
      "Square of 7: 49\n",
      "Square of 8: 64\n",
      "Square of 9: 81\n",
      "Square of 10: 100\n",
      "cube of 1: 1\n",
      "cube of 2: 8\n",
      "cube of 3: 27\n",
      "cube of 4: 64\n",
      "cube of 5: 125\n",
      "cube of 6: 216\n",
      "cube of 7: 343\n",
      "cube of 8: 512\n",
      "cube of 9: 729\n",
      "cube of 10: 1000\n"
     ]
    }
   ],
   "source": [
    "thread1.start()\n",
    "thread2.start()"
   ]
  },
  {
   "cell_type": "code",
   "execution_count": 22,
   "id": "f9a3630f-e641-41ce-a10a-bc16780ec222",
   "metadata": {},
   "outputs": [],
   "source": [
    "thread1.join()\n",
    "thread2.join()"
   ]
  },
  {
   "cell_type": "code",
   "execution_count": 23,
   "id": "106e7a26-41ee-4972-9e19-06ed951137a5",
   "metadata": {},
   "outputs": [
    {
     "name": "stdout",
     "output_type": "stream",
     "text": [
      "completed\n"
     ]
    }
   ],
   "source": [
    "print(\"completed\")"
   ]
  },
  {
   "cell_type": "markdown",
   "id": "ea61f844-824b-418c-bc0c-d7aea72fc92e",
   "metadata": {},
   "source": [
    "### 5. State advantages and disadvantages of multithreading"
   ]
  },
  {
   "cell_type": "code",
   "execution_count": 24,
   "id": "3c1a93c0-05a9-478f-8a2c-bdb791856b6e",
   "metadata": {},
   "outputs": [],
   "source": [
    "# Advantages of Multithreading\n",
    "\n",
    "#1 Concurrency and Responsiveness\n",
    "#2 Efficient Resource Utilization\n",
    "#3 Simplified Program Design\n",
    "#4 Shared Memory Access\n",
    "\n",
    "# Disadvantages of Multithreading\n",
    "\n",
    "#1 Complexity and Difficulty of Debugging\n",
    "#2 Increased Memory Usage\n",
    "#3 Thread Interference and Synchronization Overhead\n",
    "#4 Potential for Performance Issues\n",
    "\n",
    "\n"
   ]
  },
  {
   "cell_type": "markdown",
   "id": "03271464-b108-41cc-b4bc-295dac6e4529",
   "metadata": {},
   "source": [
    "### 6. Explain deadlocks and race conditions."
   ]
  },
  {
   "cell_type": "code",
   "execution_count": null,
   "id": "c6e0d86f-491a-42a2-9272-9c4bd47a7ff1",
   "metadata": {},
   "outputs": [],
   "source": []
  }
 ],
 "metadata": {
  "kernelspec": {
   "display_name": "Python 3 (ipykernel)",
   "language": "python",
   "name": "python3"
  },
  "language_info": {
   "codemirror_mode": {
    "name": "ipython",
    "version": 3
   },
   "file_extension": ".py",
   "mimetype": "text/x-python",
   "name": "python",
   "nbconvert_exporter": "python",
   "pygments_lexer": "ipython3",
   "version": "3.10.8"
  }
 },
 "nbformat": 4,
 "nbformat_minor": 5
}
